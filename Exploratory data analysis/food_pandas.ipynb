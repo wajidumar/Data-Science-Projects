{
 "cells": [
  {
   "cell_type": "markdown",
   "metadata": {},
   "source": [
    "# Pandas FAO Data Report\n",
    "### Description:\n",
    "Data regarding the food inflation was downloaded fron the FAO stat. Different functions of Pandas library were used to rearrange, and to evaluate the basic statistical and methematical parameters of the data. Bargraph showing the difference in food price increase between India and Pakistan in 2021 was made."
   ]
  },
  {
   "cell_type": "markdown",
   "metadata": {},
   "source": [
    "## Importing libraries"
   ]
  },
  {
   "cell_type": "code",
   "execution_count": 1,
   "metadata": {},
   "outputs": [],
   "source": [
    "import pandas as pd\n",
    "import numpy as np\n",
    "import seaborn as sns\n",
    "import matplotlib.pyplot as plt"
   ]
  },
  {
   "cell_type": "markdown",
   "metadata": {},
   "source": [
    "## Importing data"
   ]
  },
  {
   "cell_type": "code",
   "execution_count": 2,
   "metadata": {},
   "outputs": [
    {
     "data": {
      "text/html": [
       "<div>\n",
       "<style scoped>\n",
       "    .dataframe tbody tr th:only-of-type {\n",
       "        vertical-align: middle;\n",
       "    }\n",
       "\n",
       "    .dataframe tbody tr th {\n",
       "        vertical-align: top;\n",
       "    }\n",
       "\n",
       "    .dataframe thead th {\n",
       "        text-align: right;\n",
       "    }\n",
       "</style>\n",
       "<table border=\"1\" class=\"dataframe\">\n",
       "  <thead>\n",
       "    <tr style=\"text-align: right;\">\n",
       "      <th></th>\n",
       "      <th>Domain</th>\n",
       "      <th>Area</th>\n",
       "      <th>Year</th>\n",
       "      <th>Item</th>\n",
       "      <th>Months</th>\n",
       "      <th>Unit</th>\n",
       "      <th>Value</th>\n",
       "    </tr>\n",
       "  </thead>\n",
       "  <tbody>\n",
       "    <tr>\n",
       "      <th>0</th>\n",
       "      <td>Consumer Price Indices</td>\n",
       "      <td>Bangladesh</td>\n",
       "      <td>2021</td>\n",
       "      <td>Food price inflation</td>\n",
       "      <td>January</td>\n",
       "      <td>%</td>\n",
       "      <td>5.231415</td>\n",
       "    </tr>\n",
       "    <tr>\n",
       "      <th>1</th>\n",
       "      <td>Consumer Price Indices</td>\n",
       "      <td>Bangladesh</td>\n",
       "      <td>2021</td>\n",
       "      <td>Food price inflation</td>\n",
       "      <td>February</td>\n",
       "      <td>%</td>\n",
       "      <td>5.422392</td>\n",
       "    </tr>\n",
       "    <tr>\n",
       "      <th>2</th>\n",
       "      <td>Consumer Price Indices</td>\n",
       "      <td>Bangladesh</td>\n",
       "      <td>2021</td>\n",
       "      <td>Food price inflation</td>\n",
       "      <td>March</td>\n",
       "      <td>%</td>\n",
       "      <td>5.513068</td>\n",
       "    </tr>\n",
       "    <tr>\n",
       "      <th>3</th>\n",
       "      <td>Consumer Price Indices</td>\n",
       "      <td>Bangladesh</td>\n",
       "      <td>2021</td>\n",
       "      <td>Food price inflation</td>\n",
       "      <td>April</td>\n",
       "      <td>%</td>\n",
       "      <td>5.567092</td>\n",
       "    </tr>\n",
       "    <tr>\n",
       "      <th>4</th>\n",
       "      <td>Consumer Price Indices</td>\n",
       "      <td>Bangladesh</td>\n",
       "      <td>2021</td>\n",
       "      <td>Food price inflation</td>\n",
       "      <td>May</td>\n",
       "      <td>%</td>\n",
       "      <td>4.872824</td>\n",
       "    </tr>\n",
       "  </tbody>\n",
       "</table>\n",
       "</div>"
      ],
      "text/plain": [
       "                   Domain        Area  Year                  Item    Months  \\\n",
       "0  Consumer Price Indices  Bangladesh  2021  Food price inflation   January   \n",
       "1  Consumer Price Indices  Bangladesh  2021  Food price inflation  February   \n",
       "2  Consumer Price Indices  Bangladesh  2021  Food price inflation     March   \n",
       "3  Consumer Price Indices  Bangladesh  2021  Food price inflation     April   \n",
       "4  Consumer Price Indices  Bangladesh  2021  Food price inflation       May   \n",
       "\n",
       "  Unit     Value  \n",
       "0    %  5.231415  \n",
       "1    %  5.422392  \n",
       "2    %  5.513068  \n",
       "3    %  5.567092  \n",
       "4    %  4.872824  "
      ]
     },
     "execution_count": 2,
     "metadata": {},
     "output_type": "execute_result"
    }
   ],
   "source": [
    "x1=pd.read_csv(\"food.csv\")\n",
    "x1.head()"
   ]
  },
  {
   "cell_type": "code",
   "execution_count": 25,
   "metadata": {},
   "outputs": [
    {
     "data": {
      "image/png": "[encoded data removed]",
      "text/plain": [
       "<Figure size 648x576 with 1 Axes>"
      ]
     },
     "metadata": {},
     "output_type": "display_data"
    }
   ],
   "source": [
    "\n",
    "sns.set(rc={\"legend.facecolor\":\"#97a229\"})\n",
    "plt.figure(figsize=(9,8))\n",
    "sns.set(style=\"ticks\")\n",
    "sns.set_palette(\"spring\")\n",
    "\n",
    "sns.set(font=\"serif\")\n",
    "sns.barplot(x=\"Months\", y=\"Value\", hue=\"Area\", data=x1)\n",
    "plt.title(\"Increase in Food Prices in 2021\", size=16, weight=\"bold\")\n",
    "plt.xlabel(\"Months\",size=14, weight=\"bold\")\n",
    "plt.ylabel(\"Food Price Inflation (%)\",size=14, weight=\"bold\")\n",
    "plt.savefig(\"python.png\", dpi=600)\n"
   ]
  },
  {
   "cell_type": "markdown",
   "metadata": {},
   "source": [
    "## Groupby data"
   ]
  },
  {
   "cell_type": "code",
   "execution_count": 33,
   "metadata": {},
   "outputs": [
    {
     "data": {
      "text/html": [
       "<div>\n",
       "<style scoped>\n",
       "    .dataframe tbody tr th:only-of-type {\n",
       "        vertical-align: middle;\n",
       "    }\n",
       "\n",
       "    .dataframe tbody tr th {\n",
       "        vertical-align: top;\n",
       "    }\n",
       "\n",
       "    .dataframe thead th {\n",
       "        text-align: right;\n",
       "    }\n",
       "</style>\n",
       "<table border=\"1\" class=\"dataframe\">\n",
       "  <thead>\n",
       "    <tr style=\"text-align: right;\">\n",
       "      <th></th>\n",
       "      <th></th>\n",
       "      <th>Year</th>\n",
       "      <th>Value</th>\n",
       "    </tr>\n",
       "    <tr>\n",
       "      <th>Months</th>\n",
       "      <th>Area</th>\n",
       "      <th></th>\n",
       "      <th></th>\n",
       "    </tr>\n",
       "  </thead>\n",
       "  <tbody>\n",
       "    <tr>\n",
       "      <th rowspan=\"2\" valign=\"top\">April</th>\n",
       "      <th>India</th>\n",
       "      <td>2021.0</td>\n",
       "      <td>2.597403</td>\n",
       "    </tr>\n",
       "    <tr>\n",
       "      <th>Pakistan</th>\n",
       "      <td>2021.0</td>\n",
       "      <td>15.914037</td>\n",
       "    </tr>\n",
       "    <tr>\n",
       "      <th rowspan=\"2\" valign=\"top\">August</th>\n",
       "      <th>India</th>\n",
       "      <td>2021.0</td>\n",
       "      <td>3.734177</td>\n",
       "    </tr>\n",
       "    <tr>\n",
       "      <th>Pakistan</th>\n",
       "      <td>2021.0</td>\n",
       "      <td>9.963327</td>\n",
       "    </tr>\n",
       "    <tr>\n",
       "      <th rowspan=\"2\" valign=\"top\">February</th>\n",
       "      <th>India</th>\n",
       "      <td>2021.0</td>\n",
       "      <td>4.252492</td>\n",
       "    </tr>\n",
       "    <tr>\n",
       "      <th>Pakistan</th>\n",
       "      <td>2021.0</td>\n",
       "      <td>9.740263</td>\n",
       "    </tr>\n",
       "    <tr>\n",
       "      <th rowspan=\"2\" valign=\"top\">January</th>\n",
       "      <th>India</th>\n",
       "      <td>2021.0</td>\n",
       "      <td>2.671010</td>\n",
       "    </tr>\n",
       "    <tr>\n",
       "      <th>Pakistan</th>\n",
       "      <td>2021.0</td>\n",
       "      <td>6.679107</td>\n",
       "    </tr>\n",
       "    <tr>\n",
       "      <th rowspan=\"2\" valign=\"top\">July</th>\n",
       "      <th>India</th>\n",
       "      <td>2021.0</td>\n",
       "      <td>4.458599</td>\n",
       "    </tr>\n",
       "    <tr>\n",
       "      <th>Pakistan</th>\n",
       "      <td>2021.0</td>\n",
       "      <td>8.233434</td>\n",
       "    </tr>\n",
       "    <tr>\n",
       "      <th rowspan=\"2\" valign=\"top\">June</th>\n",
       "      <th>India</th>\n",
       "      <td>2021.0</td>\n",
       "      <td>5.584416</td>\n",
       "    </tr>\n",
       "    <tr>\n",
       "      <th>Pakistan</th>\n",
       "      <td>2021.0</td>\n",
       "      <td>10.475956</td>\n",
       "    </tr>\n",
       "    <tr>\n",
       "      <th rowspan=\"2\" valign=\"top\">March</th>\n",
       "      <th>India</th>\n",
       "      <td>2021.0</td>\n",
       "      <td>5.238415</td>\n",
       "    </tr>\n",
       "    <tr>\n",
       "      <th>Pakistan</th>\n",
       "      <td>2021.0</td>\n",
       "      <td>11.580484</td>\n",
       "    </tr>\n",
       "    <tr>\n",
       "      <th rowspan=\"2\" valign=\"top\">May</th>\n",
       "      <th>India</th>\n",
       "      <td>2021.0</td>\n",
       "      <td>5.239031</td>\n",
       "    </tr>\n",
       "    <tr>\n",
       "      <th>Pakistan</th>\n",
       "      <td>2021.0</td>\n",
       "      <td>14.827254</td>\n",
       "    </tr>\n",
       "    <tr>\n",
       "      <th rowspan=\"2\" valign=\"top\">September</th>\n",
       "      <th>India</th>\n",
       "      <td>2021.0</td>\n",
       "      <td>1.610905</td>\n",
       "    </tr>\n",
       "    <tr>\n",
       "      <th>Pakistan</th>\n",
       "      <td>2021.0</td>\n",
       "      <td>10.210293</td>\n",
       "    </tr>\n",
       "  </tbody>\n",
       "</table>\n",
       "</div>"
      ],
      "text/plain": [
       "                      Year      Value\n",
       "Months    Area                       \n",
       "April     India     2021.0   2.597403\n",
       "          Pakistan  2021.0  15.914037\n",
       "August    India     2021.0   3.734177\n",
       "          Pakistan  2021.0   9.963327\n",
       "February  India     2021.0   4.252492\n",
       "          Pakistan  2021.0   9.740263\n",
       "January   India     2021.0   2.671010\n",
       "          Pakistan  2021.0   6.679107\n",
       "July      India     2021.0   4.458599\n",
       "          Pakistan  2021.0   8.233434\n",
       "June      India     2021.0   5.584416\n",
       "          Pakistan  2021.0  10.475956\n",
       "March     India     2021.0   5.238415\n",
       "          Pakistan  2021.0  11.580484\n",
       "May       India     2021.0   5.239031\n",
       "          Pakistan  2021.0  14.827254\n",
       "September India     2021.0   1.610905\n",
       "          Pakistan  2021.0  10.210293"
      ]
     },
     "execution_count": 33,
     "metadata": {},
     "output_type": "execute_result"
    }
   ],
   "source": [
    "x1.groupby([\"Months\",\"Area\"]).mean()"
   ]
  },
  {
   "cell_type": "markdown",
   "metadata": {},
   "source": [
    "## Basic statistical parameters"
   ]
  },
  {
   "cell_type": "code",
   "execution_count": 36,
   "metadata": {},
   "outputs": [
    {
     "data": {
      "text/html": [
       "<div>\n",
       "<style scoped>\n",
       "    .dataframe tbody tr th:only-of-type {\n",
       "        vertical-align: middle;\n",
       "    }\n",
       "\n",
       "    .dataframe tbody tr th {\n",
       "        vertical-align: top;\n",
       "    }\n",
       "\n",
       "    .dataframe thead th {\n",
       "        text-align: right;\n",
       "    }\n",
       "</style>\n",
       "<table border=\"1\" class=\"dataframe\">\n",
       "  <thead>\n",
       "    <tr style=\"text-align: right;\">\n",
       "      <th></th>\n",
       "      <th>Year</th>\n",
       "      <th>Value</th>\n",
       "    </tr>\n",
       "  </thead>\n",
       "  <tbody>\n",
       "    <tr>\n",
       "      <th>count</th>\n",
       "      <td>18.0</td>\n",
       "      <td>18.000000</td>\n",
       "    </tr>\n",
       "    <tr>\n",
       "      <th>mean</th>\n",
       "      <td>2021.0</td>\n",
       "      <td>7.389478</td>\n",
       "    </tr>\n",
       "    <tr>\n",
       "      <th>std</th>\n",
       "      <td>0.0</td>\n",
       "      <td>4.196117</td>\n",
       "    </tr>\n",
       "    <tr>\n",
       "      <th>min</th>\n",
       "      <td>2021.0</td>\n",
       "      <td>1.610905</td>\n",
       "    </tr>\n",
       "    <tr>\n",
       "      <th>25%</th>\n",
       "      <td>2021.0</td>\n",
       "      <td>4.304019</td>\n",
       "    </tr>\n",
       "    <tr>\n",
       "      <th>50%</th>\n",
       "      <td>2021.0</td>\n",
       "      <td>6.131761</td>\n",
       "    </tr>\n",
       "    <tr>\n",
       "      <th>75%</th>\n",
       "      <td>2021.0</td>\n",
       "      <td>10.148551</td>\n",
       "    </tr>\n",
       "    <tr>\n",
       "      <th>max</th>\n",
       "      <td>2021.0</td>\n",
       "      <td>15.914037</td>\n",
       "    </tr>\n",
       "  </tbody>\n",
       "</table>\n",
       "</div>"
      ],
      "text/plain": [
       "         Year      Value\n",
       "count    18.0  18.000000\n",
       "mean   2021.0   7.389478\n",
       "std       0.0   4.196117\n",
       "min    2021.0   1.610905\n",
       "25%    2021.0   4.304019\n",
       "50%    2021.0   6.131761\n",
       "75%    2021.0  10.148551\n",
       "max    2021.0  15.914037"
      ]
     },
     "execution_count": 36,
     "metadata": {},
     "output_type": "execute_result"
    }
   ],
   "source": [
    "x1.describe()"
   ]
  },
  {
   "cell_type": "markdown",
   "metadata": {},
   "source": [
    "## Overall mean of the data"
   ]
  },
  {
   "cell_type": "code",
   "execution_count": 39,
   "metadata": {},
   "outputs": [
    {
     "data": {
      "text/plain": [
       "Year     2021.000000\n",
       "Value       7.389478\n",
       "dtype: float64"
      ]
     },
     "execution_count": 39,
     "metadata": {},
     "output_type": "execute_result"
    }
   ],
   "source": [
    "x1.mean(numeric_only=True)"
   ]
  },
  {
   "cell_type": "markdown",
   "metadata": {},
   "source": [
    "## Counting number of values (Area wise)"
   ]
  },
  {
   "cell_type": "code",
   "execution_count": 42,
   "metadata": {},
   "outputs": [
    {
     "data": {
      "text/plain": [
       "Area    \n",
       "India       9\n",
       "Pakistan    9\n",
       "dtype: int64"
      ]
     },
     "execution_count": 42,
     "metadata": {},
     "output_type": "execute_result"
    }
   ],
   "source": [
    "x1.value_counts([\"Area\"])"
   ]
  },
  {
   "cell_type": "markdown",
   "metadata": {},
   "source": [
    "## Mean values based on the countries"
   ]
  },
  {
   "cell_type": "code",
   "execution_count": 43,
   "metadata": {},
   "outputs": [
    {
     "data": {
      "text/html": [
       "<div>\n",
       "<style scoped>\n",
       "    .dataframe tbody tr th:only-of-type {\n",
       "        vertical-align: middle;\n",
       "    }\n",
       "\n",
       "    .dataframe tbody tr th {\n",
       "        vertical-align: top;\n",
       "    }\n",
       "\n",
       "    .dataframe thead th {\n",
       "        text-align: right;\n",
       "    }\n",
       "</style>\n",
       "<table border=\"1\" class=\"dataframe\">\n",
       "  <thead>\n",
       "    <tr style=\"text-align: right;\">\n",
       "      <th></th>\n",
       "      <th>Year</th>\n",
       "      <th>Value</th>\n",
       "    </tr>\n",
       "    <tr>\n",
       "      <th>Area</th>\n",
       "      <th></th>\n",
       "      <th></th>\n",
       "    </tr>\n",
       "  </thead>\n",
       "  <tbody>\n",
       "    <tr>\n",
       "      <th>India</th>\n",
       "      <td>2021.0</td>\n",
       "      <td>3.931828</td>\n",
       "    </tr>\n",
       "    <tr>\n",
       "      <th>Pakistan</th>\n",
       "      <td>2021.0</td>\n",
       "      <td>10.847128</td>\n",
       "    </tr>\n",
       "  </tbody>\n",
       "</table>\n",
       "</div>"
      ],
      "text/plain": [
       "            Year      Value\n",
       "Area                       \n",
       "India     2021.0   3.931828\n",
       "Pakistan  2021.0  10.847128"
      ]
     },
     "execution_count": 43,
     "metadata": {},
     "output_type": "execute_result"
    }
   ],
   "source": [
    "x1.groupby([\"Area\"]).mean()"
   ]
  },
  {
   "cell_type": "markdown",
   "metadata": {},
   "source": [
    "## Groupby based on Area and Months"
   ]
  },
  {
   "cell_type": "code",
   "execution_count": 44,
   "metadata": {},
   "outputs": [
    {
     "data": {
      "text/html": [
       "<div>\n",
       "<style scoped>\n",
       "    .dataframe tbody tr th:only-of-type {\n",
       "        vertical-align: middle;\n",
       "    }\n",
       "\n",
       "    .dataframe tbody tr th {\n",
       "        vertical-align: top;\n",
       "    }\n",
       "\n",
       "    .dataframe thead th {\n",
       "        text-align: right;\n",
       "    }\n",
       "</style>\n",
       "<table border=\"1\" class=\"dataframe\">\n",
       "  <thead>\n",
       "    <tr style=\"text-align: right;\">\n",
       "      <th></th>\n",
       "      <th></th>\n",
       "      <th>Year</th>\n",
       "      <th>Value</th>\n",
       "    </tr>\n",
       "    <tr>\n",
       "      <th>Area</th>\n",
       "      <th>Months</th>\n",
       "      <th></th>\n",
       "      <th></th>\n",
       "    </tr>\n",
       "  </thead>\n",
       "  <tbody>\n",
       "    <tr>\n",
       "      <th rowspan=\"9\" valign=\"top\">India</th>\n",
       "      <th>April</th>\n",
       "      <td>2021.0</td>\n",
       "      <td>2.597403</td>\n",
       "    </tr>\n",
       "    <tr>\n",
       "      <th>August</th>\n",
       "      <td>2021.0</td>\n",
       "      <td>3.734177</td>\n",
       "    </tr>\n",
       "    <tr>\n",
       "      <th>February</th>\n",
       "      <td>2021.0</td>\n",
       "      <td>4.252492</td>\n",
       "    </tr>\n",
       "    <tr>\n",
       "      <th>January</th>\n",
       "      <td>2021.0</td>\n",
       "      <td>2.671010</td>\n",
       "    </tr>\n",
       "    <tr>\n",
       "      <th>July</th>\n",
       "      <td>2021.0</td>\n",
       "      <td>4.458599</td>\n",
       "    </tr>\n",
       "    <tr>\n",
       "      <th>June</th>\n",
       "      <td>2021.0</td>\n",
       "      <td>5.584416</td>\n",
       "    </tr>\n",
       "    <tr>\n",
       "      <th>March</th>\n",
       "      <td>2021.0</td>\n",
       "      <td>5.238415</td>\n",
       "    </tr>\n",
       "    <tr>\n",
       "      <th>May</th>\n",
       "      <td>2021.0</td>\n",
       "      <td>5.239031</td>\n",
       "    </tr>\n",
       "    <tr>\n",
       "      <th>September</th>\n",
       "      <td>2021.0</td>\n",
       "      <td>1.610905</td>\n",
       "    </tr>\n",
       "    <tr>\n",
       "      <th rowspan=\"9\" valign=\"top\">Pakistan</th>\n",
       "      <th>April</th>\n",
       "      <td>2021.0</td>\n",
       "      <td>15.914037</td>\n",
       "    </tr>\n",
       "    <tr>\n",
       "      <th>August</th>\n",
       "      <td>2021.0</td>\n",
       "      <td>9.963327</td>\n",
       "    </tr>\n",
       "    <tr>\n",
       "      <th>February</th>\n",
       "      <td>2021.0</td>\n",
       "      <td>9.740263</td>\n",
       "    </tr>\n",
       "    <tr>\n",
       "      <th>January</th>\n",
       "      <td>2021.0</td>\n",
       "      <td>6.679107</td>\n",
       "    </tr>\n",
       "    <tr>\n",
       "      <th>July</th>\n",
       "      <td>2021.0</td>\n",
       "      <td>8.233434</td>\n",
       "    </tr>\n",
       "    <tr>\n",
       "      <th>June</th>\n",
       "      <td>2021.0</td>\n",
       "      <td>10.475956</td>\n",
       "    </tr>\n",
       "    <tr>\n",
       "      <th>March</th>\n",
       "      <td>2021.0</td>\n",
       "      <td>11.580484</td>\n",
       "    </tr>\n",
       "    <tr>\n",
       "      <th>May</th>\n",
       "      <td>2021.0</td>\n",
       "      <td>14.827254</td>\n",
       "    </tr>\n",
       "    <tr>\n",
       "      <th>September</th>\n",
       "      <td>2021.0</td>\n",
       "      <td>10.210293</td>\n",
       "    </tr>\n",
       "  </tbody>\n",
       "</table>\n",
       "</div>"
      ],
      "text/plain": [
       "                      Year      Value\n",
       "Area     Months                      \n",
       "India    April      2021.0   2.597403\n",
       "         August     2021.0   3.734177\n",
       "         February   2021.0   4.252492\n",
       "         January    2021.0   2.671010\n",
       "         July       2021.0   4.458599\n",
       "         June       2021.0   5.584416\n",
       "         March      2021.0   5.238415\n",
       "         May        2021.0   5.239031\n",
       "         September  2021.0   1.610905\n",
       "Pakistan April      2021.0  15.914037\n",
       "         August     2021.0   9.963327\n",
       "         February   2021.0   9.740263\n",
       "         January    2021.0   6.679107\n",
       "         July       2021.0   8.233434\n",
       "         June       2021.0  10.475956\n",
       "         March      2021.0  11.580484\n",
       "         May        2021.0  14.827254\n",
       "         September  2021.0  10.210293"
      ]
     },
     "execution_count": 44,
     "metadata": {},
     "output_type": "execute_result"
    }
   ],
   "source": [
    "x1.groupby([\"Area\",\"Months\"]).mean()"
   ]
  },
  {
   "cell_type": "markdown",
   "metadata": {},
   "source": [
    "## Bar graph"
   ]
  },
  {
   "cell_type": "code",
   "execution_count": 31,
   "metadata": {},
   "outputs": [
    {
     "data": {
      "text/plain": [
       "Text(0, 0.5, 'Food price increase (%)')"
      ]
     },
     "execution_count": 31,
     "metadata": {},
     "output_type": "execute_result"
    },
    {
     "data": {
      "image/png": "[encoded data removed]",
      "text/plain": [
       "<Figure size 576x576 with 1 Axes>"
      ]
     },
     "metadata": {},
     "output_type": "display_data"
    }
   ],
   "source": [
    "plt.figure(figsize=(8,8))\n",
    "sns.set(style=\"ticks\")\n",
    "sns.set_palette(sns.color_palette(\"viridis_r\"))\n",
    "sns.barplot(x=\"Months\", y=\"Value\", hue=\"Area\", data=x1)\n",
    "plt.title(\"Food Price Inflation (2021)\", size=14, weight=\"bold\")\n",
    "plt.xlabel(\"Months\", size=14, weight=\"bold\")\n",
    "plt.xlabel(\"Months\", size=14, weight=\"bold\")\n",
    "plt.xlabel(\"Months\", size=14, weight=\"bold\")\n",
    "plt.ylabel(\"Food price increase (%)\",size=14, weight=\"bold\" )\n"
   ]
  },
  {
   "cell_type": "markdown",
   "metadata": {},
   "source": [
    "## Interpretation\n",
    "The grapdh shows the comparison in food prices increase between India and Pakistan in 2021. It is concluded from the graph that increase in food prices from january to september 2021 is much higher in Pakistan as compare to India. Apparently, maximum percentage increase in food prices in Pakistan (15.91%) was recorded in the month of April while it was much lower in the case of India (2.59%). In the case of India, the highest recorded percentage in food prices was in the month of June (5.58%). However, both countries showed significant differences in terms of food price inflation."
   ]
  }
 ],
 "metadata": {
  "interpreter": {
   "hash": "38740d3277777e2cd7c6c2cc9d8addf5118fdf3f82b1b39231fd12aeac8aee8b"
  },
  "kernelspec": {
   "display_name": "Python 3 (ipykernel)",
   "language": "python",
   "name": "python3"
  },
  "language_info": {
   "codemirror_mode": {
    "name": "ipython",
    "version": 3
   },
   "file_extension": ".py",
   "mimetype": "text/x-python",
   "name": "python",
   "nbconvert_exporter": "python",
   "pygments_lexer": "ipython3",
   "version": "3.9.7"
  }
 },
 "nbformat": 4,
 "nbformat_minor": 2
}
