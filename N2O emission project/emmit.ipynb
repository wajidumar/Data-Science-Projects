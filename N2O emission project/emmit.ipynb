{
 "cells": [
  {
   "cell_type": "markdown",
   "metadata": {},
   "source": [
    "# **Expected increase in Nitrous oxide emission**"
   ]
  },
  {
   "cell_type": "markdown",
   "metadata": {},
   "source": [
    "Nitrous oxide (N2O) is a potent greehouse gas. It is considered a third most important greenhous gas after methane and carbon dioxide. It is considered as one of the biggest human related threat to the ozone layer. Agricultural fertilizer applications and dairy farming are the major source of N2O emission. Nearly a 30% increase in the emission of N2O was noted in the past four decades. Nitrous oxide posses 300 times higher atmosphere warming potential than CO2."
   ]
  },
  {
   "cell_type": "markdown",
   "metadata": {},
   "source": [
    "Based on the avaialable data we can predict the increase or decrease in the emission of N2O. There is an ample amount of data stored in the [FAO Database](https://www.fao.org/faostat/en/#data)"
   ]
  },
  {
   "cell_type": "markdown",
   "metadata": {},
   "source": [
    "We are going to perform the prediction using ***Machine Learning*** algorithms. For that purpose we need important libraries to import, clean and analysis of data.\\\n",
    "Below we imported ***NumPy*** and ***Pandas*** libraries."
   ]
  },
  {
   "cell_type": "code",
   "execution_count": 1,
   "metadata": {},
   "outputs": [],
   "source": [
    "## Importing the libraries\n",
    "import numpy as np\n",
    "import pandas as pd"
   ]
  },
  {
   "cell_type": "markdown",
   "metadata": {},
   "source": [
    "The nitrous oxide emission data from FAO database was imported. The data include global N2O emission values from 1961-2019 from agricultural soils./\n",
    "The data is imported from the CSV file using the codes below."
   ]
  },
  {
   "cell_type": "code",
   "execution_count": 2,
   "metadata": {},
   "outputs": [
    {
     "data": {
      "text/html": [
       "<div>\n",
       "<style scoped>\n",
       "    .dataframe tbody tr th:only-of-type {\n",
       "        vertical-align: middle;\n",
       "    }\n",
       "\n",
       "    .dataframe tbody tr th {\n",
       "        vertical-align: top;\n",
       "    }\n",
       "\n",
       "    .dataframe thead th {\n",
       "        text-align: right;\n",
       "    }\n",
       "</style>\n",
       "<table border=\"1\" class=\"dataframe\">\n",
       "  <thead>\n",
       "    <tr style=\"text-align: right;\">\n",
       "      <th></th>\n",
       "      <th>Domain</th>\n",
       "      <th>Area</th>\n",
       "      <th>Element</th>\n",
       "      <th>Item</th>\n",
       "      <th>Year</th>\n",
       "      <th>Source</th>\n",
       "      <th>Unit</th>\n",
       "      <th>Value</th>\n",
       "    </tr>\n",
       "  </thead>\n",
       "  <tbody>\n",
       "    <tr>\n",
       "      <th>0</th>\n",
       "      <td>Emissions Totals</td>\n",
       "      <td>World</td>\n",
       "      <td>Direct emissions (N2O)</td>\n",
       "      <td>Agricultural Soils</td>\n",
       "      <td>1961</td>\n",
       "      <td>FAO TIER 1</td>\n",
       "      <td>kilotonnes</td>\n",
       "      <td>1841.0876</td>\n",
       "    </tr>\n",
       "    <tr>\n",
       "      <th>1</th>\n",
       "      <td>Emissions Totals</td>\n",
       "      <td>World</td>\n",
       "      <td>Direct emissions (N2O)</td>\n",
       "      <td>Agricultural Soils</td>\n",
       "      <td>1962</td>\n",
       "      <td>FAO TIER 1</td>\n",
       "      <td>kilotonnes</td>\n",
       "      <td>1896.9660</td>\n",
       "    </tr>\n",
       "    <tr>\n",
       "      <th>2</th>\n",
       "      <td>Emissions Totals</td>\n",
       "      <td>World</td>\n",
       "      <td>Direct emissions (N2O)</td>\n",
       "      <td>Agricultural Soils</td>\n",
       "      <td>1963</td>\n",
       "      <td>FAO TIER 1</td>\n",
       "      <td>kilotonnes</td>\n",
       "      <td>1942.8741</td>\n",
       "    </tr>\n",
       "    <tr>\n",
       "      <th>3</th>\n",
       "      <td>Emissions Totals</td>\n",
       "      <td>World</td>\n",
       "      <td>Direct emissions (N2O)</td>\n",
       "      <td>Agricultural Soils</td>\n",
       "      <td>1964</td>\n",
       "      <td>FAO TIER 1</td>\n",
       "      <td>kilotonnes</td>\n",
       "      <td>2004.8762</td>\n",
       "    </tr>\n",
       "    <tr>\n",
       "      <th>4</th>\n",
       "      <td>Emissions Totals</td>\n",
       "      <td>World</td>\n",
       "      <td>Direct emissions (N2O)</td>\n",
       "      <td>Agricultural Soils</td>\n",
       "      <td>1965</td>\n",
       "      <td>FAO TIER 1</td>\n",
       "      <td>kilotonnes</td>\n",
       "      <td>2077.2466</td>\n",
       "    </tr>\n",
       "  </tbody>\n",
       "</table>\n",
       "</div>"
      ],
      "text/plain": [
       "             Domain   Area                 Element                Item  Year  \\\n",
       "0  Emissions Totals  World  Direct emissions (N2O)  Agricultural Soils  1961   \n",
       "1  Emissions Totals  World  Direct emissions (N2O)  Agricultural Soils  1962   \n",
       "2  Emissions Totals  World  Direct emissions (N2O)  Agricultural Soils  1963   \n",
       "3  Emissions Totals  World  Direct emissions (N2O)  Agricultural Soils  1964   \n",
       "4  Emissions Totals  World  Direct emissions (N2O)  Agricultural Soils  1965   \n",
       "\n",
       "       Source        Unit      Value  \n",
       "0  FAO TIER 1  kilotonnes  1841.0876  \n",
       "1  FAO TIER 1  kilotonnes  1896.9660  \n",
       "2  FAO TIER 1  kilotonnes  1942.8741  \n",
       "3  FAO TIER 1  kilotonnes  2004.8762  \n",
       "4  FAO TIER 1  kilotonnes  2077.2466  "
      ]
     },
     "execution_count": 2,
     "metadata": {},
     "output_type": "execute_result"
    }
   ],
   "source": [
    "df=pd.read_csv(\"emm_n2o.csv\")\n",
    "df.head()\n"
   ]
  },
  {
   "cell_type": "markdown",
   "metadata": {},
   "source": [
    "To see the column names only I used the function given below. It makes it easy to select the coulmn names espacially when there are more number of columns."
   ]
  },
  {
   "cell_type": "code",
   "execution_count": 3,
   "metadata": {},
   "outputs": [
    {
     "data": {
      "text/plain": [
       "Index(['Domain', 'Area', 'Element', 'Item', 'Year', 'Source', 'Unit', 'Value'], dtype='object')"
      ]
     },
     "execution_count": 3,
     "metadata": {},
     "output_type": "execute_result"
    }
   ],
   "source": [
    "df.columns"
   ]
  },
  {
   "cell_type": "markdown",
   "metadata": {},
   "source": [
    "The required variables are stored into the new variables X and y. The X variable contains the indepenedant/feature variable, while the y variable contains the data of dependant/target variable."
   ]
  },
  {
   "cell_type": "code",
   "execution_count": 4,
   "metadata": {},
   "outputs": [],
   "source": [
    "X=df[[\"Year\"]]\n",
    "y=df[\"Value\"]"
   ]
  },
  {
   "cell_type": "markdown",
   "metadata": {},
   "source": [
    "The model from the Scikit-learn library is fitted on the variables"
   ]
  },
  {
   "cell_type": "code",
   "execution_count": 5,
   "metadata": {},
   "outputs": [],
   "source": [
    "from sklearn.linear_model import LinearRegression\n",
    "model1=LinearRegression().fit(X,y)"
   ]
  },
  {
   "cell_type": "markdown",
   "metadata": {},
   "source": [
    "To evaluate the model efficiency/accuracy/fitness, the data is divided into training and testing data. The training data will be used to train the model and the prediction will be carried out on test data."
   ]
  },
  {
   "cell_type": "code",
   "execution_count": 6,
   "metadata": {},
   "outputs": [],
   "source": [
    "from sklearn.model_selection import train_test_split\n",
    "X_train, X_test, y_train, y_test=train_test_split(X,y, test_size=0.2, random_state=0)"
   ]
  },
  {
   "cell_type": "markdown",
   "metadata": {},
   "source": [
    "The model is trained using training data using the code given below"
   ]
  },
  {
   "cell_type": "code",
   "execution_count": 7,
   "metadata": {},
   "outputs": [],
   "source": [
    "from sklearn.linear_model import LinearRegression\n",
    "model=LinearRegression().fit(X_train, y_train)"
   ]
  },
  {
   "cell_type": "markdown",
   "metadata": {},
   "source": [
    "Prediction is carried out on test data to see the efficiency of the model and the R2 metrics is used to evaluate the model fitness."
   ]
  },
  {
   "cell_type": "code",
   "execution_count": 8,
   "metadata": {},
   "outputs": [
    {
     "data": {
      "text/plain": [
       "array([3377.47860383, 3844.15128191, 4258.9714402 , 3481.18364341,\n",
       "       2599.69080705, 2133.01812897, 3792.29876212, 4414.52899955,\n",
       "       4103.41388084, 3170.06852469, 2236.72316854, 2547.83828726])"
      ]
     },
     "execution_count": 8,
     "metadata": {},
     "output_type": "execute_result"
    }
   ],
   "source": [
    "y_pred=model.predict(X_test)\n",
    "y_pred"
   ]
  },
  {
   "cell_type": "code",
   "execution_count": 9,
   "metadata": {},
   "outputs": [
    {
     "data": {
      "text/plain": [
       "0.972352774127542"
      ]
     },
     "execution_count": 9,
     "metadata": {},
     "output_type": "execute_result"
    }
   ],
   "source": [
    "from sklearn.metrics import r2_score\n",
    "r2_score(y_test, y_pred)"
   ]
  },
  {
   "cell_type": "markdown",
   "metadata": {},
   "source": [
    "As we can see the accuracy of the model is 97% which is quite good. SO now it is confirmed that the model is good to predict the future variation in the data.\\\n",
    "We prepared an array of input variables that we want to predict."
   ]
  },
  {
   "cell_type": "code",
   "execution_count": 10,
   "metadata": {},
   "outputs": [],
   "source": [
    "x=[[2020], [2021],[2022],[2023],[2024],[2025],[2026],[2027],[2028], [2029],[2030],[2031],[2032],[2033],[2034],[2035],[2036],[2037],\n",
    "[2038],[2039],[2040],[2041],[2042],[2043],[2044],[2045],[2046],[2047],[2048],[2049],[2050]]"
   ]
  },
  {
   "cell_type": "markdown",
   "metadata": {},
   "source": [
    "The array of generated input variables is feed to the model prediction function below and we can see the expected values as a output."
   ]
  },
  {
   "cell_type": "code",
   "execution_count": 11,
   "metadata": {},
   "outputs": [
    {
     "data": {
      "text/plain": [
       "array([5096.2290232 , 5148.38665098, 5200.54427876, 5252.70190654,\n",
       "       5304.85953432, 5357.0171621 , 5409.17478988, 5461.33241766,\n",
       "       5513.49004544, 5565.64767321, 5617.80530099, 5669.96292877,\n",
       "       5722.12055655, 5774.27818433, 5826.43581211, 5878.59343989,\n",
       "       5930.75106767, 5982.90869545, 6035.06632323, 6087.22395101,\n",
       "       6139.38157878, 6191.53920656, 6243.69683434, 6295.85446212,\n",
       "       6348.0120899 , 6400.16971768, 6452.32734546, 6504.48497324,\n",
       "       6556.64260102, 6608.8002288 , 6660.95785658])"
      ]
     },
     "execution_count": 11,
     "metadata": {},
     "output_type": "execute_result"
    }
   ],
   "source": [
    "exp1=model1.predict(x)\n",
    "exp1"
   ]
  },
  {
   "cell_type": "markdown",
   "metadata": {},
   "source": [
    "The predicted values are in the form of array, so to convert an array to a dataFrame, we used the function given below. The converted data frame is then exported to a CSV file for furthur use."
   ]
  },
  {
   "cell_type": "code",
   "execution_count": 12,
   "metadata": {},
   "outputs": [],
   "source": [
    "df2=pd.DataFrame(exp1, columns=[\"Value\"])"
   ]
  },
  {
   "cell_type": "code",
   "execution_count": null,
   "metadata": {},
   "outputs": [],
   "source": [
    "df2.to_csv(\"C:/Users/BQD45O/Desktop/Git/meta/exp.csv\")"
   ]
  },
  {
   "cell_type": "code",
   "execution_count": 13,
   "metadata": {},
   "outputs": [],
   "source": [
    "import seaborn as sns\n",
    "import matplotlib.pyplot as plt"
   ]
  },
  {
   "cell_type": "code",
   "execution_count": 14,
   "metadata": {},
   "outputs": [],
   "source": [
    "df2=pd.read_csv(\"emm_n2o_expec.csv\")"
   ]
  },
  {
   "cell_type": "code",
   "execution_count": 15,
   "metadata": {},
   "outputs": [
    {
     "data": {
      "text/plain": [
       "Text(0.5, 1.0, 'Nitrous Oxide Emission from  Agricultural soils (1961-2050)')"
      ]
     },
     "execution_count": 15,
     "metadata": {},
     "output_type": "execute_result"
    },
    {
     "data": {
      "image/png": "[encoded data removed]",
      "text/plain": [
       "<Figure size 720x720 with 1 Axes>"
      ]
     },
     "metadata": {
      "needs_background": "light"
     },
     "output_type": "display_data"
    }
   ],
   "source": [
    "plt.figure(figsize=(10,10))\n",
    "Year=df2[\"Year\"]\n",
    "Value=df2[\"Value\"]\n",
    "sns.lineplot(x=Year, y=Value, data=df2, color=\"red\", linewidth=5)\n",
    "plt.axvline(x=2022, ymin=0, ymax=1, color=\"purple\", linestyle=\"dotted\", linewidth=4)\n",
    "plt.figtext(0.7,0.08, \"Prepared by: @Wajidumar007\")\n",
    "plt.figtext(0.65,0.63, \"Expected N2O emission\")\n",
    "plt.xlabel(\"Year\", size=12, weight=\"bold\")\n",
    "plt.ylabel(\"Nitrous oxide emission (Kilotonnes)\", size=12, weight=\"bold\")\n",
    "plt.title(\"Nitrous Oxide Emission from  Agricultural soils (1961-2050)\", size=14, weight=\"bold\", family=\"Times New Roman\")"
   ]
  }
 ],
 "metadata": {
  "interpreter": {
   "hash": "38740d3277777e2cd7c6c2cc9d8addf5118fdf3f82b1b39231fd12aeac8aee8b"
  },
  "kernelspec": {
   "display_name": "Python 3 (ipykernel)",
   "language": "python",
   "name": "python3"
  },
  "language_info": {
   "codemirror_mode": {
    "name": "ipython",
    "version": 3
   },
   "file_extension": ".py",
   "mimetype": "text/x-python",
   "name": "python",
   "nbconvert_exporter": "python",
   "pygments_lexer": "ipython3",
   "version": "3.9.7"
  }
 },
 "nbformat": 4,
 "nbformat_minor": 2
}
